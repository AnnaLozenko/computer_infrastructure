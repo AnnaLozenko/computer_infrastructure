{
 "cells": [
  {
   "cell_type": "markdown",
   "id": "e9eb521d",
   "metadata": {},
   "source": [
    "# Solutions to the Assessment Problems for Computer Infrastructure Module"
   ]
  },
  {
   "cell_type": "code",
   "id": "a71d23b8",
   "metadata": {
    "ExecuteTime": {
     "end_time": "2025-10-24T19:16:24.527542Z",
     "start_time": "2025-10-24T19:16:24.520026Z"
    }
   },
   "source": [
    "#import pandas\n",
    "import pandas as pd\n",
    "#import yfinance package\n",
    "import yfinance as yf\n",
    "#import datetime\n",
    "import datetime as dt"
   ],
   "outputs": [],
   "execution_count": 27
  },
  {
   "cell_type": "markdown",
   "id": "67b29ad3",
   "metadata": {},
   "source": [
    "## Problem 1: Data from yfinance"
   ]
  },
  {
   "metadata": {},
   "cell_type": "markdown",
   "source": "",
   "id": "7cf99e9873c221cf"
  },
  {
   "metadata": {
    "ExecuteTime": {
     "end_time": "2025-10-24T19:25:06.951877Z",
     "start_time": "2025-10-24T19:25:06.941566Z"
    }
   },
   "cell_type": "code",
   "source": [
    "# function get_data()\n",
    "def get_data(tickers, start = dt.datetime.now() - dt.timedelta(days=5), end = dt.datetime.now(), interval = \"1d\"):\n",
    "    data = yf.download(tickers, start=start, end=end, interval=interval, auto_adjust=True)\n",
    "    print(data.head())\n",
    "    data.to_csv(\"data.csv\", sep = \",\")\n"
   ],
   "id": "9a88535fa1324444",
   "outputs": [],
   "execution_count": 37
  },
  {
   "metadata": {
    "ExecuteTime": {
     "end_time": "2025-10-24T19:25:09.931821Z",
     "start_time": "2025-10-24T19:25:09.150763Z"
    }
   },
   "cell_type": "code",
   "source": "get_data(['META', 'AAPL', 'AMZN', 'NFLX' , 'GOOG'])",
   "id": "58cc2c37fc6adfbf",
   "outputs": [
    {
     "name": "stderr",
     "output_type": "stream",
     "text": [
      "[*********************100%***********************]  5 of 5 completed"
     ]
    },
    {
     "name": "stdout",
     "output_type": "stream",
     "text": [
      "Price            Close                                                   \\\n",
      "Ticker            AAPL        AMZN        GOOG        META         NFLX   \n",
      "Date                                                                      \n",
      "2025-10-20  262.239990  216.479996  257.019989  732.169983  1238.560059   \n",
      "2025-10-21  262.769989  222.029999  251.339996  733.270020  1241.349976   \n",
      "2025-10-22  258.450012  217.949997  252.529999  733.409973  1116.369995   \n",
      "2025-10-23  259.579987  221.089996  253.729996  734.000000  1113.589966   \n",
      "2025-10-24  263.459991  224.389999  261.109985  739.272400  1098.680054   \n",
      "\n",
      "Price             High                                                   ...  \\\n",
      "Ticker            AAPL        AMZN        GOOG        META         NFLX  ...   \n",
      "Date                                                                     ...   \n",
      "2025-10-20  264.380005  216.690002  257.880005  733.770020  1247.760010  ...   \n",
      "2025-10-21  265.290009  223.320007  255.380005  738.500000  1248.599976  ...   \n",
      "2025-10-22  262.850006  220.009995  257.179993  740.599976  1157.599976  ...   \n",
      "2025-10-23  260.619995  221.300003  255.860001  742.409973  1127.829956  ...   \n",
      "2025-10-24  264.130005  225.399994  262.510010  741.210022  1114.500000  ...   \n",
      "\n",
      "Price             Open                                                   \\\n",
      "Ticker            AAPL        AMZN        GOOG        META         NFLX   \n",
      "Date                                                                      \n",
      "2025-10-20  255.889999  213.880005  255.229996  721.190002  1207.880005   \n",
      "2025-10-21  261.880005  218.429993  255.250000  736.020020  1242.829956   \n",
      "2025-10-22  262.649994  219.300003  255.009995  733.830017  1142.900024   \n",
      "2025-10-23  259.940002  219.000000  253.699997  734.700012  1126.900024   \n",
      "2025-10-24  261.190002  221.970001  257.299988  737.320007  1111.000000   \n",
      "\n",
      "Price         Volume                                         \n",
      "Ticker          AAPL      AMZN      GOOG     META      NFLX  \n",
      "Date                                                         \n",
      "2025-10-20  90483000  38882800  13726800  8900200   3986200  \n",
      "2025-10-21  46695900  50494600  27836400  7647300   6508200  \n",
      "2025-10-22  45015300  44308500  19650200  8734500  14789000  \n",
      "2025-10-23  32647300  31472500  13186600  9837200   6835700  \n",
      "2025-10-24  25906050  29396140  12956607  7078863   4671193  \n",
      "\n",
      "[5 rows x 25 columns]\n"
     ]
    },
    {
     "name": "stderr",
     "output_type": "stream",
     "text": [
      "\n"
     ]
    }
   ],
   "execution_count": 38
  },
  {
   "metadata": {
    "ExecuteTime": {
     "end_time": "2025-10-24T19:16:34.236578Z",
     "start_time": "2025-10-24T19:16:34.224660Z"
    }
   },
   "cell_type": "code",
   "source": "print(dt.datetime.now())",
   "id": "bab7c13f8758202b",
   "outputs": [
    {
     "name": "stdout",
     "output_type": "stream",
     "text": [
      "2025-10-24 20:16:34.230670\n"
     ]
    }
   ],
   "execution_count": 31
  },
  {
   "metadata": {},
   "cell_type": "code",
   "outputs": [],
   "execution_count": null,
   "source": "",
   "id": "82076f0c569f3eea"
  },
  {
   "metadata": {},
   "cell_type": "markdown",
   "source": "https://mimo.org/glossary/python/datetime",
   "id": "a7dbb297881a95f9"
  },
  {
   "cell_type": "markdown",
   "id": "c42e6140",
   "metadata": {},
   "source": [
    "## Problem 2: Plotting Data"
   ]
  },
  {
   "cell_type": "code",
   "id": "3f162eac",
   "metadata": {
    "ExecuteTime": {
     "end_time": "2025-10-24T19:16:24.976757500Z",
     "start_time": "2025-10-24T19:03:47.915887Z"
    }
   },
   "source": [],
   "outputs": [],
   "execution_count": null
  },
  {
   "cell_type": "markdown",
   "id": "ee8063ee",
   "metadata": {},
   "source": [
    "## Problem 3: Script"
   ]
  },
  {
   "cell_type": "code",
   "id": "af2ca079",
   "metadata": {
    "ExecuteTime": {
     "end_time": "2025-10-24T19:16:24.978756Z",
     "start_time": "2025-10-24T19:03:47.975904Z"
    }
   },
   "source": [],
   "outputs": [],
   "execution_count": null
  },
  {
   "cell_type": "markdown",
   "id": "6519546b",
   "metadata": {},
   "source": [
    "## Problem 4: Automation"
   ]
  },
  {
   "cell_type": "code",
   "id": "dcda9ceb",
   "metadata": {
    "ExecuteTime": {
     "end_time": "2025-10-24T19:16:24.981043400Z",
     "start_time": "2025-10-24T19:03:48.027089Z"
    }
   },
   "source": [],
   "outputs": [],
   "execution_count": null
  },
  {
   "cell_type": "markdown",
   "id": "e6f7b3bd",
   "metadata": {},
   "source": [
    "## End"
   ]
  }
 ],
 "metadata": {
  "kernelspec": {
   "display_name": "Python [conda env:base] *",
   "language": "python",
   "name": "conda-base-py"
  },
  "language_info": {
   "codemirror_mode": {
    "name": "ipython",
    "version": 3
   },
   "file_extension": ".py",
   "mimetype": "text/x-python",
   "name": "python",
   "nbconvert_exporter": "python",
   "pygments_lexer": "ipython3",
   "version": "3.12.7"
  }
 },
 "nbformat": 4,
 "nbformat_minor": 5
}
