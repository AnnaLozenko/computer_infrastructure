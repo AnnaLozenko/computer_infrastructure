{
 "cells": [
  {
   "cell_type": "markdown",
   "id": "e9eb521d",
   "metadata": {},
   "source": [
    "# Solutions to the Assessment Problems for Computer Infrastructure Module"
   ]
  },
  {
   "cell_type": "code",
   "id": "a71d23b8",
   "metadata": {
    "ExecuteTime": {
     "end_time": "2025-10-27T09:32:46.622736Z",
     "start_time": "2025-10-27T09:32:46.614910Z"
    }
   },
   "source": [
    "#import pandas\n",
    "import pandas as pd\n",
    "#import yfinance package\n",
    "import yfinance as yf\n",
    "#import datetime\n",
    "import datetime as dt"
   ],
   "outputs": [],
   "execution_count": 18
  },
  {
   "cell_type": "markdown",
   "id": "67b29ad3",
   "metadata": {},
   "source": [
    "## Problem 1: Data from yfinance"
   ]
  },
  {
   "metadata": {},
   "cell_type": "markdown",
   "source": [
    "Create a function called `get_data` that takes the following parameters:\n",
    "- `tickers`: A list of stock ticker symbols (e.g., ['AAPL', 'GOOG']).\n",
    "- `start`: The start date for the data retrieval (default to 5 days ago from the current date).\n",
    "- `end`: The end date for the data retrieval (default to the current date).\n",
    "- `interval`: The data interval (default to '1h' for hourly data).\n",
    "\n",
    "The function retrieves historical stock data for the specified tickers and date range using the yfinance package, and prints the first few rows of the retrieved data to the console.\n",
    "The data is saved into a folder called *data* in the root of my repository to a CSV file using a filename with the format YYYYMMDD-HHmmss.csv.\n"
   ],
   "id": "aef629069fbb042b"
  },
  {
   "metadata": {},
   "cell_type": "markdown",
   "source": [
    "For more  information on y-finance package, please visit the repository [link](https://github.com/ranaroussi/yfinance#history).\n",
    "For more information on datetime package, please visit the documentation [link](https://docs.python.org/3/library/datetime.html).\n"
   ],
   "id": "67df9d4437854c8d"
  },
  {
   "metadata": {
    "ExecuteTime": {
     "end_time": "2025-10-27T09:32:48.361729Z",
     "start_time": "2025-10-27T09:32:48.354196Z"
    }
   },
   "cell_type": "code",
   "source": [
    "# define function get_data()\n",
    "def get_data(tickers, start = dt.datetime.now() - dt.timedelta(days=5), end = dt.datetime.now(), interval = \"1h\"):\n",
    "    data = yf.download(tickers, start=start, end=end, interval=interval, auto_adjust=True)\n",
    "    now= dt.datetime.now().strftime(\"%Y%m%d-%H%M%S\")\n",
    "    print(data.head())\n",
    "    data.to_csv(\"data/\" + now + \".csv\", sep = \",\")\n"
   ],
   "id": "9a88535fa1324444",
   "outputs": [],
   "execution_count": 19
  },
  {
   "metadata": {},
   "cell_type": "markdown",
   "source": [
    "Use the function to get data for the five FAANG stocks with the following tickers:\n",
    "- META (Facebook)\n",
    "- AAPL (Apple)\n",
    "- AMZN (Amazon)\n",
    "- NFLX (Netflix)\n",
    "- GOOG (Google)"
   ],
   "id": "3844387612b21c98"
  },
  {
   "metadata": {
    "ExecuteTime": {
     "end_time": "2025-10-27T09:32:50.528097Z",
     "start_time": "2025-10-27T09:32:50.218013Z"
    }
   },
   "cell_type": "code",
   "source": "get_data(['META', 'AAPL', 'AMZN', 'NFLX' , 'GOOG'])",
   "id": "58cc2c37fc6adfbf",
   "outputs": [
    {
     "name": "stderr",
     "output_type": "stream",
     "text": [
      "[*********************100%***********************]  5 of 5 completed"
     ]
    },
    {
     "name": "stdout",
     "output_type": "stream",
     "text": [
      "Price                           Close                                      \\\n",
      "Ticker                           AAPL        AMZN        GOOG        META   \n",
      "Datetime                                                                    \n",
      "2025-10-22 13:30:00+00:00  260.049896  217.449997  253.899994  732.340027   \n",
      "2025-10-22 14:30:00+00:00  258.429901  218.739899  253.679993  729.630005   \n",
      "2025-10-22 15:30:00+00:00  258.549988  218.970001  252.460007  730.020020   \n",
      "2025-10-22 16:30:00+00:00  256.691406  217.800003  251.589996  727.169983   \n",
      "2025-10-22 17:30:00+00:00  256.550995  217.304993  251.971100  728.927673   \n",
      "\n",
      "Price                                         High                          \\\n",
      "Ticker                            NFLX        AAPL        AMZN        GOOG   \n",
      "Datetime                                                                     \n",
      "2025-10-22 13:30:00+00:00  1122.729980  262.850006  220.005005  257.079987   \n",
      "2025-10-22 14:30:00+00:00  1117.420044  261.130005  218.960007  257.179993   \n",
      "2025-10-22 15:30:00+00:00  1119.015015  259.489990  219.759995  254.830002   \n",
      "2025-10-22 16:30:00+00:00  1115.444946  258.769989  219.059998  252.770004   \n",
      "2025-10-22 17:30:00+00:00  1123.359985  257.079803  217.809998  252.220001   \n",
      "\n",
      "Price                                               ...        Open  \\\n",
      "Ticker                           META         NFLX  ...        AAPL   \n",
      "Datetime                                            ...               \n",
      "2025-10-22 13:30:00+00:00  740.590027  1157.500000  ...  262.790009   \n",
      "2025-10-22 14:30:00+00:00  736.633484  1125.469971  ...  260.000000   \n",
      "2025-10-22 15:30:00+00:00  733.460022  1124.520020  ...  258.450012   \n",
      "2025-10-22 16:30:00+00:00  730.710022  1119.539917  ...  258.549988   \n",
      "2025-10-22 17:30:00+00:00  729.179993  1123.680054  ...  256.670013   \n",
      "\n",
      "Price                                                                       \\\n",
      "Ticker                           AMZN        GOOG        META         NFLX   \n",
      "Datetime                                                                     \n",
      "2025-10-22 13:30:00+00:00  219.429993  255.039993  733.400024  1143.359985   \n",
      "2025-10-22 14:30:00+00:00  217.438004  253.925003  732.549988  1123.280029   \n",
      "2025-10-22 15:30:00+00:00  218.740005  253.720001  729.659973  1117.385010   \n",
      "2025-10-22 16:30:00+00:00  218.960007  252.410004  730.510010  1118.920044   \n",
      "2025-10-22 17:30:00+00:00  217.785004  251.580002  726.640015  1115.439941   \n",
      "\n",
      "Price                       Volume                                      \n",
      "Ticker                        AAPL     AMZN     GOOG     META     NFLX  \n",
      "Datetime                                                                \n",
      "2025-10-22 13:30:00+00:00        0        0        0        0        0  \n",
      "2025-10-22 14:30:00+00:00  5930214  6425894  3974722  1388235  2607312  \n",
      "2025-10-22 15:30:00+00:00  3763921  3499390  2073807   645997  1299285  \n",
      "2025-10-22 16:30:00+00:00  4679141  4014663  1843035   682730  1209837  \n",
      "2025-10-22 17:30:00+00:00  4221043  4435868  1352067   629279  1022550  \n",
      "\n",
      "[5 rows x 25 columns]\n"
     ]
    },
    {
     "name": "stderr",
     "output_type": "stream",
     "text": [
      "\n"
     ]
    }
   ],
   "execution_count": 20
  },
  {
   "metadata": {},
   "cell_type": "markdown",
   "source": "",
   "id": "69efe47032bef3e"
  },
  {
   "metadata": {},
   "cell_type": "code",
   "outputs": [],
   "execution_count": null,
   "source": "",
   "id": "82076f0c569f3eea"
  },
  {
   "metadata": {},
   "cell_type": "markdown",
   "source": "https://mimo.org/glossary/python/datetime",
   "id": "a7dbb297881a95f9"
  },
  {
   "cell_type": "markdown",
   "id": "c42e6140",
   "metadata": {},
   "source": [
    "## Problem 2: Plotting Data"
   ]
  },
  {
   "cell_type": "code",
   "id": "3f162eac",
   "metadata": {
    "ExecuteTime": {
     "end_time": "2025-10-24T19:16:24.976757500Z",
     "start_time": "2025-10-24T19:03:47.915887Z"
    }
   },
   "source": [],
   "outputs": [],
   "execution_count": null
  },
  {
   "cell_type": "markdown",
   "id": "ee8063ee",
   "metadata": {},
   "source": [
    "## Problem 3: Script"
   ]
  },
  {
   "cell_type": "code",
   "id": "af2ca079",
   "metadata": {
    "ExecuteTime": {
     "end_time": "2025-10-24T19:16:24.978756Z",
     "start_time": "2025-10-24T19:03:47.975904Z"
    }
   },
   "source": [],
   "outputs": [],
   "execution_count": null
  },
  {
   "cell_type": "markdown",
   "id": "6519546b",
   "metadata": {},
   "source": [
    "## Problem 4: Automation"
   ]
  },
  {
   "cell_type": "code",
   "id": "dcda9ceb",
   "metadata": {
    "ExecuteTime": {
     "end_time": "2025-10-24T19:16:24.981043400Z",
     "start_time": "2025-10-24T19:03:48.027089Z"
    }
   },
   "source": [],
   "outputs": [],
   "execution_count": null
  },
  {
   "cell_type": "markdown",
   "id": "e6f7b3bd",
   "metadata": {},
   "source": [
    "## End"
   ]
  }
 ],
 "metadata": {
  "kernelspec": {
   "display_name": "Python [conda env:base] *",
   "language": "python",
   "name": "conda-base-py"
  },
  "language_info": {
   "codemirror_mode": {
    "name": "ipython",
    "version": 3
   },
   "file_extension": ".py",
   "mimetype": "text/x-python",
   "name": "python",
   "nbconvert_exporter": "python",
   "pygments_lexer": "ipython3",
   "version": "3.12.7"
  }
 },
 "nbformat": 4,
 "nbformat_minor": 5
}
