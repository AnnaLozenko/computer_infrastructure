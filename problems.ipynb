{
 "cells": [
  {
   "cell_type": "markdown",
   "id": "e9eb521d",
   "metadata": {},
   "source": [
    "# Solutions to the Assessment Problems for Computer Infrastructure Module"
   ]
  },
  {
   "cell_type": "code",
   "id": "a71d23b8",
   "metadata": {
    "ExecuteTime": {
     "end_time": "2025-10-16T20:25:28.756808Z",
     "start_time": "2025-10-16T20:25:28.751296Z"
    }
   },
   "source": [
    "#import pandas\n",
    "import pandas as pd\n",
    "#import numpy\n",
    "import numpy as np\n",
    "#import yfinance package\n",
    "import yfinance as yf"
   ],
   "outputs": [],
   "execution_count": 43
  },
  {
   "cell_type": "markdown",
   "id": "67b29ad3",
   "metadata": {},
   "source": [
    "## Problem 1: Data from yfinance"
   ]
  },
  {
   "metadata": {},
   "cell_type": "markdown",
   "source": ",",
   "id": "7cf99e9873c221cf"
  },
  {
   "metadata": {
    "ExecuteTime": {
     "end_time": "2025-10-16T20:23:02.886686Z",
     "start_time": "2025-10-16T20:23:02.879681Z"
    }
   },
   "cell_type": "code",
   "source": [
    "# function get_data()\n",
    "def get_data(tickers, start, end, interval = \"1d\"):\n",
    "    data = yf.download(tickers, start=start, end=end, interval=interval)\n",
    "    print(data.head())"
   ],
   "id": "9a88535fa1324444",
   "outputs": [],
   "execution_count": 41
  },
  {
   "metadata": {
    "ExecuteTime": {
     "end_time": "2025-10-16T20:23:05.435788Z",
     "start_time": "2025-10-16T20:23:05.328676Z"
    }
   },
   "cell_type": "code",
   "source": "get_data(['META', 'AAPL', 'AMZN', 'NFLX' , 'GOOG'], start = \"2025-10-10\", end = \"2025-10-15\")",
   "id": "58cc2c37fc6adfbf",
   "outputs": [
    {
     "name": "stderr",
     "output_type": "stream",
     "text": [
      "C:\\Users\\annal\\AppData\\Local\\Temp\\ipykernel_23316\\714213764.py:3: FutureWarning: YF.download() has changed argument auto_adjust default to True\n",
      "  data = yf.download(tickers, start=start, end=end, interval=interval)\n",
      "[*********************100%***********************]  5 of 5 completed"
     ]
    },
    {
     "name": "stdout",
     "output_type": "stream",
     "text": [
      "Price            Close                                                   \\\n",
      "Ticker            AAPL        AMZN        GOOG        META         NFLX   \n",
      "Date                                                                      \n",
      "2025-10-10  245.270004  216.369995  237.490005  705.299988  1220.079956   \n",
      "2025-10-13  247.660004  220.070007  244.639999  715.700012  1219.030029   \n",
      "2025-10-14  247.770004  216.389999  246.190002  708.650024  1215.349976   \n",
      "\n",
      "Price             High                                                   ...  \\\n",
      "Ticker            AAPL        AMZN        GOOG        META         NFLX  ...   \n",
      "Date                                                                     ...   \n",
      "2025-10-10  256.380005  228.250000  244.839996  735.270020  1247.000000  ...   \n",
      "2025-10-13  249.690002  220.679993  244.990005  719.940002  1231.119995  ...   \n",
      "2025-10-14  248.850006  219.320007  248.024994  715.549988  1224.290039  ...   \n",
      "\n",
      "Price             Open                                                   \\\n",
      "Ticker            AAPL        AMZN        GOOG        META         NFLX   \n",
      "Date                                                                      \n",
      "2025-10-10  254.940002  226.210007  242.160004  730.919983  1229.000000   \n",
      "2025-10-13  249.380005  217.699997  241.029999  713.010010  1221.349976   \n",
      "2025-10-14  246.600006  215.559998  241.755005  707.780029  1214.750000   \n",
      "\n",
      "Price         Volume                                         \n",
      "Ticker          AAPL      AMZN      GOOG      META     NFLX  \n",
      "Date                                                         \n",
      "2025-10-10  61999100  72367500  22449100  16980100  4279800  \n",
      "2025-10-13  38142900  37809700  12465000   9251800  2460800  \n",
      "2025-10-14  35478000  45665600  17705400   8829800  2362400  \n",
      "\n",
      "[3 rows x 25 columns]\n"
     ]
    },
    {
     "name": "stderr",
     "output_type": "stream",
     "text": [
      "\n"
     ]
    }
   ],
   "execution_count": 42
  },
  {
   "cell_type": "markdown",
   "id": "c42e6140",
   "metadata": {},
   "source": [
    "## Problem 2: Plotting Data"
   ]
  },
  {
   "cell_type": "code",
   "execution_count": null,
   "id": "3f162eac",
   "metadata": {},
   "outputs": [],
   "source": []
  },
  {
   "cell_type": "markdown",
   "id": "ee8063ee",
   "metadata": {},
   "source": [
    "## Problem 3: Script"
   ]
  },
  {
   "cell_type": "code",
   "execution_count": null,
   "id": "af2ca079",
   "metadata": {},
   "outputs": [],
   "source": []
  },
  {
   "cell_type": "markdown",
   "id": "6519546b",
   "metadata": {},
   "source": [
    "## Problem 4: Automation"
   ]
  },
  {
   "cell_type": "code",
   "execution_count": null,
   "id": "dcda9ceb",
   "metadata": {},
   "outputs": [],
   "source": []
  },
  {
   "cell_type": "markdown",
   "id": "e6f7b3bd",
   "metadata": {},
   "source": [
    "## End"
   ]
  }
 ],
 "metadata": {
  "kernelspec": {
   "display_name": "Python [conda env:base] *",
   "language": "python",
   "name": "conda-base-py"
  },
  "language_info": {
   "codemirror_mode": {
    "name": "ipython",
    "version": 3
   },
   "file_extension": ".py",
   "mimetype": "text/x-python",
   "name": "python",
   "nbconvert_exporter": "python",
   "pygments_lexer": "ipython3",
   "version": "3.12.7"
  }
 },
 "nbformat": 4,
 "nbformat_minor": 5
}
